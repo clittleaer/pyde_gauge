{
 "cells": [
  {
   "cell_type": "code",
   "execution_count": 1,
   "id": "9340a495-2108-42ca-9ec9-ace9c052f352",
   "metadata": {},
   "outputs": [],
   "source": [
    "%module load matlab\n",
    "clear all, close all, clc\n",
    "data=readRlrMonthly('/glade/work/clittle/rlr/rlr_monthly');\n",
    "out1={data(:).id; data(:).latitude; data(:).longitude; data(:).name; data(:).coastline};\n",
    "% test=[data(1).id data(1).latitude data(1).longitude data(1).name data(1).coastline data(1).stationcode (data(1).stationflag)];\n",
    "writecell((out1), 'PSMSL_ids2.csv')"
   ]
  },
  {
   "cell_type": "code",
   "execution_count": 2,
   "id": "d166c585-5579-453d-8feb-96e640286da5",
   "metadata": {},
   "outputs": [],
   "source": [
    "mask=([data(:).latitude]>-90).*([data(:).latitude]<90);\n",
    "alltgind=find(mask);\n",
    "% data(alltgind).name "
   ]
  },
  {
   "cell_type": "code",
   "execution_count": 3,
   "id": "28eae240-0b49-4ceb-b949-3949fd64beaf",
   "metadata": {},
   "outputs": [
    {
     "name": "stdout",
     "output_type": "stream",
     "text": [
      "\n",
      "ans =\n",
      "\n",
      "        1464        1549\n",
      "\n",
      "\n",
      "ans =\n",
      "\n",
      "           1        1549\n",
      "\n"
     ]
    }
   ],
   "source": [
    "timeax=datenum(1900,1:12*122,15);\n",
    "allTG=NaN(size(alltgind,2),size(timeax,2));\n",
    "for ntg=1:size(alltgind,2)\n",
    "dnin=datenum(data(alltgind(ntg)).year,data(alltgind(ntg)).month,15);\n",
    "[C, ia,ib]=intersect(dnin,timeax); \n",
    "tgin=data(alltgind(ntg)).height;\n",
    "allTG(ntg,ib)=tgin(ia);\n",
    "end\n",
    "size(([timeax' allTG']))\n",
    "headers=[0 [data(:).id]];\n",
    "size([headers])\n",
    "output=(cat(1,headers,[timeax' allTG']));\n",
    "writematrix((output), 'PSMSL_data.csv')"
   ]
  },
  {
   "cell_type": "code",
   "execution_count": 4,
   "id": "36d9c682-80eb-4727-afef-8eba33f1d00f",
   "metadata": {
    "tags": []
   },
   "outputs": [],
   "source": [
    "timeax=datenum(1900,1:12*122,15);\n",
    "allTG=NaN(size(alltgind,2),size(timeax,2));\n",
    "for ntg=1:size(alltgind,2)\n",
    "dnin=datenum(data(alltgind(ntg)).year,data(alltgind(ntg)).month,15);\n",
    "[C, ia,ib]=intersect(dnin,timeax); \n",
    "tgin=data(alltgind(ntg)).height;\n",
    "allTG(ntg,ib)=tgin(ia);\n",
    "end\n",
    "size(([timeax' allTG']));\n",
    "out1=cat(1, [0 data(:).id], [0 data(:).latitude], [0 data(:).longitude], [timeax' allTG']);\n",
    "out0={'0000' data(:).name};\n",
    "out2=num2cell(out1);\n",
    "out2(2,1)={'00'};\n",
    "out2(3,1)={'000'};\n",
    "out4=cat(1, out0, out2);\n",
    "%size(out4)\n",
    "writecell(out4, 'PSMSL_data2.csv')"
   ]
  }
 ],
 "metadata": {
  "kernelspec": {
   "display_name": "Matlab R2019a",
   "language": "matlab",
   "name": "matlab"
  },
  "language_info": {
   "codemirror_mode": "octave",
   "file_extension": ".m",
   "help_links": [
    {
     "text": "MetaKernel Magics",
     "url": "https://metakernel.readthedocs.io/en/latest/source/README.html"
    }
   ],
   "mimetype": "text/x-octave",
   "name": "matlab",
   "version": "0.16.4"
  }
 },
 "nbformat": 4,
 "nbformat_minor": 5
}
