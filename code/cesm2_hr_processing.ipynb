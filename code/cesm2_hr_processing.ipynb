{
 "cells": [
  {
   "cell_type": "code",
   "execution_count": 1,
   "id": "48c3c916-c12d-4720-b2b7-42f06c735db3",
   "metadata": {},
   "outputs": [],
   "source": [
    "%load_ext autoreload\n",
    "%autoreload 2\n",
    "import xarray as xr \n",
    "import numpy as np  \n",
    "import cftime\n",
    "import pandas as pd\n",
    "import matplotlib.pyplot as plt\n",
    "import cartopy.crs as xccrs\n",
    "import cartopy.feature as cfeature\n",
    "%matplotlib inline\n",
    "\n",
    "import momlevel"
   ]
  },
  {
   "cell_type": "markdown",
   "id": "d982a32e-804c-42a6-98ec-38a1c6d779a4",
   "metadata": {
    "jp-MarkdownHeadingCollapsed": true,
    "tags": []
   },
   "source": [
    "## Data I/O using Dask: probably necessary"
   ]
  },
  {
   "cell_type": "markdown",
   "id": "79fac41b-27de-49a6-a1d6-299122cd2ece",
   "metadata": {
    "tags": []
   },
   "source": [
    "## read in monthly SSH files for an HR cycle"
   ]
  },
  {
   "cell_type": "code",
   "execution_count": 4,
   "id": "10d299b2-9207-475e-af38-7b6cfa9e5f0e",
   "metadata": {},
   "outputs": [
    {
     "data": {
      "text/plain": [
       "26.0"
      ]
     },
     "execution_count": 4,
     "metadata": {},
     "output_type": "execute_result"
    }
   ],
   "source": [
    "import os, re\n",
    "\n",
    "def get_filenames_in_range(path_to_directory, lower_bound, upper_bound):\n",
    "    files = []\n",
    "    # Iterate through files in current directory\n",
    "    for f in os.listdir(path_to_directory):\n",
    "        if f.endswith(\".nc\"):            # print(f)        \n",
    "            # Perform a regex match for numbers\n",
    "            match = re.findall(r'\\d+', f)\n",
    "            # If numbers are found, check whether they are within range\n",
    "            if match:\n",
    "                number = int(match[-2])\n",
    "                if number >= lower_bound and number <= upper_bound:\n",
    "                    files.append(os.path.join(diri, f))\n",
    "    return files\n",
    "\n",
    "def preprocessor(d0):\n",
    "    d0 = d0[['SSH']]\n",
    "    # d0 = cal.time_set_midmonth(d0,'time')\n",
    "    # d0 = d0.groupby('time.year').mean('time').rename({'year':'time'})\n",
    "    return d0\n",
    "\n",
    "#HR cycle 3 #1993-2018\n",
    "ncycle=3\n",
    "startyear=1993-1958+1\n",
    "nyears=2018-1993\n",
    "startnumber=startyear+(ncycle-1)*61\n",
    "diri = '/glade/campaign/collections/cmip/CMIP6/iHESP/FOSI/HR/g.e20.G.TL319_t13.control.001_contd/ocn/hist'\n",
    "fin=get_filenames_in_range(diri,startnumber,startnumber+nyears)\n",
    "len(fin)/12"
   ]
  },
  {
   "cell_type": "code",
   "execution_count": null,
   "id": "5db9b248-a127-4ef2-a685-7744140364aa",
   "metadata": {},
   "outputs": [],
   "source": [
    "ds = xr.open_mfdataset(fin,combine='by_coords',coords=\"minimal\",compat=\"override\",\n",
    "                       preprocess=preprocessor,\n",
    "                       parallel=True,)"
   ]
  },
  {
   "cell_type": "code",
   "execution_count": null,
   "id": "c54935fd-4f1f-4fd5-913b-f65dc2a7cdb9",
   "metadata": {},
   "outputs": [],
   "source": [
    "ds"
   ]
  },
  {
   "cell_type": "code",
   "execution_count": null,
   "id": "4280c4c7-3bcf-4b47-bea1-86404bd7ed39",
   "metadata": {},
   "outputs": [],
   "source": [
    "fosi=ds.where(ds.SSH < 1e5)\n",
    "geolon=fosi.TLONG.drop_vars(['TLONG','TLAT','ULONG','ULAT'])\n",
    "geolat=fosi.TLAT.drop_vars(['TLONG','TLAT','ULONG','ULAT'])\n",
    "omask=xr.where(np.isnan(fosi.SSH[0,:,:]), 0, 1)\n",
    "omask=omask.drop_vars(['TLONG','TLAT','ULONG','ULAT'])"
   ]
  },
  {
   "cell_type": "markdown",
   "id": "a977aa80-bddd-4069-9ec5-eac433d5698a",
   "metadata": {
    "tags": []
   },
   "source": [
    "### process FOSI at TG locations"
   ]
  },
  {
   "cell_type": "code",
   "execution_count": null,
   "id": "6245dcb3-c387-4b11-815d-748e3eaccb86",
   "metadata": {},
   "outputs": [],
   "source": [
    "tgcsvin=\"./real_tgs_in_small.csv\"\n",
    "# tgcsvin=\"./pseudo_tgs_in.csv\"\n",
    "tgs_in=pd.read_csv(tgcsvin)\n",
    "tgs_in"
   ]
  },
  {
   "cell_type": "code",
   "execution_count": null,
   "id": "97624e94",
   "metadata": {
    "tags": []
   },
   "outputs": [],
   "source": [
    "fosi_tg_ts=momlevel.extract_tidegauge(fosi.SSH.drop_vars(['TLONG','TLAT','ULONG','ULAT']), geolon, geolat, mask=omask, csv=tgcsvin)"
   ]
  },
  {
   "cell_type": "code",
   "execution_count": null,
   "id": "62d24e47-0b4f-4eae-9990-c17ba67e47dd",
   "metadata": {},
   "outputs": [],
   "source": [
    "fosi_in=tgs_in.copy()\n",
    "fosi_in.index=fosi_in['name']\n",
    "fosi_in=fosi_in.T\n",
    "\n",
    "for colname in fosi_in:\n",
    "    fosi_in[colname].lat=fosi_tg_ts[colname].model_coords[0]\n",
    "    fosi_in[colname].lon=fosi_tg_ts[colname].model_coords[1]\n",
    "    # print(colname)\n",
    "fosi_in.to_pickle(\"./real_hr3_tg_locs_small.pkl\")\n",
    "# fosi_in.to_pickle(\"./pseudo_hr3_tg_locs.pkl\")"
   ]
  },
  {
   "cell_type": "code",
   "execution_count": null,
   "id": "1157c4b7-79e7-4ab6-84cf-6a9df9587f43",
   "metadata": {
    "tags": []
   },
   "outputs": [],
   "source": [
    "%%time\n",
    "\n",
    "tg_ibcorr=pd.read_pickle(\"tg_ts_93_18_small.pkl\")\n",
    "\n",
    "fosi_ibcorr=fosi_tg_ts.to_dataframe()\n",
    "fosi_ibcorr=fosi_ibcorr.T\n",
    "fosi_ibcorr.index=fosi_ibcorr.index.astype('str')\n",
    "fosi_ibcorr=fosi_ibcorr.T\n",
    "fosi_ibcorr.columns\n",
    "fosi_ibcorr.index=tg_ibcorr.index\n",
    "\n",
    "fosi_ibcorr.to_pickle(\"./real_hr3_ts_small.pkl\")\n",
    "# fosi_ibcorr.to_pickle(\"./pseudo_hr3_ts.pkl\")"
   ]
  }
 ],
 "metadata": {
  "kernelspec": {
   "display_name": "Python [conda env:sealevel-newmomlevel]",
   "language": "python",
   "name": "conda-env-sealevel-newmomlevel-py"
  },
  "language_info": {
   "codemirror_mode": {
    "name": "ipython",
    "version": 3
   },
   "file_extension": ".py",
   "mimetype": "text/x-python",
   "name": "python",
   "nbconvert_exporter": "python",
   "pygments_lexer": "ipython3",
   "version": "3.8.16"
  }
 },
 "nbformat": 4,
 "nbformat_minor": 5
}
